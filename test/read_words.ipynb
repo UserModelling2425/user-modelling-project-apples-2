{
 "cells": [
  {
   "cell_type": "code",
   "execution_count": 3,
   "outputs": [
    {
     "name": "stdout",
     "output_type": "stream",
     "text": [
      "['lango', 'dhoruba', 'kazi', 'flava', 'kichwa', 'siri', 'dunia', 'degaga', 'question', 'tunda', 'tumbili', 'skati', 'askari', 'maliki', 'basi', 'kaputula']\n",
      "['door', 'storm', 'work', 'music', 'head', 'secret', 'world', 'glasses', 'answer', 'fruit', 'monkey', 'skirt', 'police', 'king', 'bus', 'pants']\n"
     ]
    }
   ],
   "source": [
    "import csv\n",
    "questions = []\n",
    "answers = []\n",
    "\n",
    "with open(\"subject-100.csv\", 'r', newline='') as file:\n",
    "    reader = csv.DictReader(file)\n",
    "    for row in reader:\n",
    "        if not row['question'].strip() or not row['answer'].strip():\n",
    "            continue\n",
    "\n",
    "        if row['question'].strip() in questions:\n",
    "            continue\n",
    "        questions.append(row['question'].strip())\n",
    "        answers.append(row['answer'].strip())\n",
    "\n",
    "print(questions)\n",
    "print(answers)"
   ],
   "metadata": {
    "collapsed": false,
    "pycharm": {
     "name": "#%%\n"
    }
   }
  },
  {
   "cell_type": "code",
   "execution_count": null,
   "outputs": [],
   "source": [],
   "metadata": {
    "collapsed": false,
    "pycharm": {
     "name": "#%%\n"
    }
   }
  }
 ],
 "metadata": {
  "kernelspec": {
   "display_name": "Python 3",
   "language": "python",
   "name": "python3"
  },
  "language_info": {
   "codemirror_mode": {
    "name": "ipython",
    "version": 2
   },
   "file_extension": ".py",
   "mimetype": "text/x-python",
   "name": "python",
   "nbconvert_exporter": "python",
   "pygments_lexer": "ipython2",
   "version": "2.7.6"
  }
 },
 "nbformat": 4,
 "nbformat_minor": 0
}