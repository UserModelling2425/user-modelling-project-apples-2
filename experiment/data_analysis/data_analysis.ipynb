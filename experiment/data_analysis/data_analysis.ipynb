{
 "cells": [
  {
   "cell_type": "code",
   "execution_count": 6,
   "outputs": [],
   "source": [
    "import os\n",
    "import pandas as pd\n",
    "import numpy as np"
   ],
   "metadata": {
    "collapsed": false,
    "pycharm": {
     "name": "#%%\n"
    }
   }
  },
  {
   "cell_type": "code",
   "execution_count": 7,
   "outputs": [],
   "source": [],
   "metadata": {
    "collapsed": false,
    "pycharm": {
     "name": "#%%\n"
    }
   }
  },
  {
   "cell_type": "code",
   "execution_count": 33,
   "outputs": [
    {
     "name": "stdout",
     "output_type": "stream",
     "text": [
      "D:/RUG/Term 3/ScientificVisualization/user-modelling-project-apples-2/experiment\\subject-0.csv\n",
      "D:/RUG/Term 3/ScientificVisualization/user-modelling-project-apples-2/experiment\\subject-1.csv\n",
      "D:/RUG/Term 3/ScientificVisualization/user-modelling-project-apples-2/experiment\\subject-10.csv\n",
      "D:/RUG/Term 3/ScientificVisualization/user-modelling-project-apples-2/experiment\\subject-11.csv\n",
      "D:/RUG/Term 3/ScientificVisualization/user-modelling-project-apples-2/experiment\\subject-12.csv\n",
      "D:/RUG/Term 3/ScientificVisualization/user-modelling-project-apples-2/experiment\\subject-13.csv\n",
      "D:/RUG/Term 3/ScientificVisualization/user-modelling-project-apples-2/experiment\\subject-14.csv\n",
      "D:/RUG/Term 3/ScientificVisualization/user-modelling-project-apples-2/experiment\\subject-2.csv\n",
      "D:/RUG/Term 3/ScientificVisualization/user-modelling-project-apples-2/experiment\\subject-3.csv\n"
     ]
    }
   ],
   "source": [
    "import pandas as pd\n",
    "import glob\n",
    "import os\n",
    "\n",
    "# Path to the folder containing the CSV files\n",
    "directory = \"D:/RUG/Term 3/ScientificVisualization/user-modelling-project-apples-2/experiment\" # i know my directory is bit fcked :D\n",
    "\n",
    "# Use glob to get a list of all files matching the pattern 'subject-#.csv'\n",
    "csv_files = glob.glob(os.path.join(directory, \"subject-*.csv\"))\n",
    "\n",
    "# Filter out files that contain '_recall' in their names\n",
    "csv_files = [file for file in csv_files if '_recall' not in os.path.basename(file)]\n",
    "csv_files = [file for file in csv_files if 'pandasRecall' not in os.path.basename(file)]\n",
    "# Initialize an empty list to store individual DataFrames\n",
    "dfs = []\n",
    "\n",
    "# Loop over the files\n",
    "for file in csv_files:\n",
    "    print(file)\n",
    "    # Read the CSV file into a DataFrame\n",
    "    df = pd.read_csv(file)\n",
    "\n",
    "    # Extract the subject number from the file name (assuming format: 'subject-#.csv')\n",
    "    subject_number = os.path.basename(file).split('-')[1].split('.')[0]\n",
    "\n",
    "    # Add a new column for the subject number\n",
    "    df['subject'] = subject_number\n",
    "\n",
    "    # Append the DataFrame to the list\n",
    "    dfs.append(df)\n",
    "\n",
    "# Concatenate all DataFrames into a single DataFrame\n",
    "combined_df = pd.concat(dfs, ignore_index=True)"
   ],
   "metadata": {
    "collapsed": false,
    "pycharm": {
     "name": "#%%\n"
    }
   }
  },
  {
   "cell_type": "code",
   "execution_count": 36,
   "outputs": [],
   "source": [
    "combined_df.to_csv(\"combined_data.csv\")"
   ],
   "metadata": {
    "collapsed": false,
    "pycharm": {
     "name": "#%%\n"
    }
   }
  },
  {
   "cell_type": "code",
   "execution_count": 37,
   "outputs": [
    {
     "data": {
      "text/plain": "    trial          start_time                  rt correct            time_bar   \n0       1  118820.13440004084   4883.936600002926   False             15000.0  \\\n1       2  126047.07490000874   1646.066899993457    True   7217.064756936508   \n2       3  132362.35030001262  4523.2601999887265   False             15000.0   \n3       4    139224.719299993  1297.6233000517823    True  6495.2832999710945   \n4       5  144304.73080003867   4968.492799962405   False             15000.0   \n..    ...                 ...                 ...     ...                 ...   \n809    37    775908.472900046    5449.62900003884   False             15000.0   \n810    38   783703.6204000469   3157.001500017941   False             15000.0   \n811    39   789201.9464999903  1368.4709999943152    True    5945.31840454242   \n812    40   793400.6164000602   778.7601000163704    True   5885.858844162206   \n813    41   797265.6417000107   1740.415700012818    True   7555.978284850239   \n\n    keyboard_response    new on_time         expected_rt time_bar_visible   \n0                 NaN   True    True                 inf             True  \\\n1           knowledge  False    True   2110.032378468254             True   \n2                 NaN   True    True                 inf             True   \n3             glasses  False    True  2082.1416499855472             True   \n4                 NaN   True    True                 inf             True   \n..                ...    ...     ...                 ...              ...   \n809               NaN   True    True                 inf             True   \n810               NaN   True    True                 inf             True   \n811               hat  False    True    2473.15920227121             True   \n812              milk  False    True   2276.929422081103             True   \n813          scissors  False    True  2445.9891424251196             True   \n\n    fact_id question     answer                alpha subject  \n0        50    ujuzi  knowledge                  0.3       0  \n1        50    ujuzi  knowledge                  0.3       0  \n2        54   degaga    glasses                  0.3       0  \n3        54   degaga    glasses                  0.3       0  \n4        22     kazi       work                  0.3       0  \n..      ...      ...        ...                  ...     ...  \n809      46    kofia        hat                  0.3       3  \n810      71   maziwa       milk                  0.3       3  \n811      46    kofia        hat                  0.3       3  \n812      71   maziwa       milk                  0.3       3  \n813      45   chanjo   scissors  0.43085937499999993       3  \n\n[814 rows x 15 columns]",
      "text/html": "<div>\n<style scoped>\n    .dataframe tbody tr th:only-of-type {\n        vertical-align: middle;\n    }\n\n    .dataframe tbody tr th {\n        vertical-align: top;\n    }\n\n    .dataframe thead th {\n        text-align: right;\n    }\n</style>\n<table border=\"1\" class=\"dataframe\">\n  <thead>\n    <tr style=\"text-align: right;\">\n      <th></th>\n      <th>trial</th>\n      <th>start_time</th>\n      <th>rt</th>\n      <th>correct</th>\n      <th>time_bar</th>\n      <th>keyboard_response</th>\n      <th>new</th>\n      <th>on_time</th>\n      <th>expected_rt</th>\n      <th>time_bar_visible</th>\n      <th>fact_id</th>\n      <th>question</th>\n      <th>answer</th>\n      <th>alpha</th>\n      <th>subject</th>\n    </tr>\n  </thead>\n  <tbody>\n    <tr>\n      <th>0</th>\n      <td>1</td>\n      <td>118820.13440004084</td>\n      <td>4883.936600002926</td>\n      <td>False</td>\n      <td>15000.0</td>\n      <td>NaN</td>\n      <td>True</td>\n      <td>True</td>\n      <td>inf</td>\n      <td>True</td>\n      <td>50</td>\n      <td>ujuzi</td>\n      <td>knowledge</td>\n      <td>0.3</td>\n      <td>0</td>\n    </tr>\n    <tr>\n      <th>1</th>\n      <td>2</td>\n      <td>126047.07490000874</td>\n      <td>1646.066899993457</td>\n      <td>True</td>\n      <td>7217.064756936508</td>\n      <td>knowledge</td>\n      <td>False</td>\n      <td>True</td>\n      <td>2110.032378468254</td>\n      <td>True</td>\n      <td>50</td>\n      <td>ujuzi</td>\n      <td>knowledge</td>\n      <td>0.3</td>\n      <td>0</td>\n    </tr>\n    <tr>\n      <th>2</th>\n      <td>3</td>\n      <td>132362.35030001262</td>\n      <td>4523.2601999887265</td>\n      <td>False</td>\n      <td>15000.0</td>\n      <td>NaN</td>\n      <td>True</td>\n      <td>True</td>\n      <td>inf</td>\n      <td>True</td>\n      <td>54</td>\n      <td>degaga</td>\n      <td>glasses</td>\n      <td>0.3</td>\n      <td>0</td>\n    </tr>\n    <tr>\n      <th>3</th>\n      <td>4</td>\n      <td>139224.719299993</td>\n      <td>1297.6233000517823</td>\n      <td>True</td>\n      <td>6495.2832999710945</td>\n      <td>glasses</td>\n      <td>False</td>\n      <td>True</td>\n      <td>2082.1416499855472</td>\n      <td>True</td>\n      <td>54</td>\n      <td>degaga</td>\n      <td>glasses</td>\n      <td>0.3</td>\n      <td>0</td>\n    </tr>\n    <tr>\n      <th>4</th>\n      <td>5</td>\n      <td>144304.73080003867</td>\n      <td>4968.492799962405</td>\n      <td>False</td>\n      <td>15000.0</td>\n      <td>NaN</td>\n      <td>True</td>\n      <td>True</td>\n      <td>inf</td>\n      <td>True</td>\n      <td>22</td>\n      <td>kazi</td>\n      <td>work</td>\n      <td>0.3</td>\n      <td>0</td>\n    </tr>\n    <tr>\n      <th>...</th>\n      <td>...</td>\n      <td>...</td>\n      <td>...</td>\n      <td>...</td>\n      <td>...</td>\n      <td>...</td>\n      <td>...</td>\n      <td>...</td>\n      <td>...</td>\n      <td>...</td>\n      <td>...</td>\n      <td>...</td>\n      <td>...</td>\n      <td>...</td>\n      <td>...</td>\n    </tr>\n    <tr>\n      <th>809</th>\n      <td>37</td>\n      <td>775908.472900046</td>\n      <td>5449.62900003884</td>\n      <td>False</td>\n      <td>15000.0</td>\n      <td>NaN</td>\n      <td>True</td>\n      <td>True</td>\n      <td>inf</td>\n      <td>True</td>\n      <td>46</td>\n      <td>kofia</td>\n      <td>hat</td>\n      <td>0.3</td>\n      <td>3</td>\n    </tr>\n    <tr>\n      <th>810</th>\n      <td>38</td>\n      <td>783703.6204000469</td>\n      <td>3157.001500017941</td>\n      <td>False</td>\n      <td>15000.0</td>\n      <td>NaN</td>\n      <td>True</td>\n      <td>True</td>\n      <td>inf</td>\n      <td>True</td>\n      <td>71</td>\n      <td>maziwa</td>\n      <td>milk</td>\n      <td>0.3</td>\n      <td>3</td>\n    </tr>\n    <tr>\n      <th>811</th>\n      <td>39</td>\n      <td>789201.9464999903</td>\n      <td>1368.4709999943152</td>\n      <td>True</td>\n      <td>5945.31840454242</td>\n      <td>hat</td>\n      <td>False</td>\n      <td>True</td>\n      <td>2473.15920227121</td>\n      <td>True</td>\n      <td>46</td>\n      <td>kofia</td>\n      <td>hat</td>\n      <td>0.3</td>\n      <td>3</td>\n    </tr>\n    <tr>\n      <th>812</th>\n      <td>40</td>\n      <td>793400.6164000602</td>\n      <td>778.7601000163704</td>\n      <td>True</td>\n      <td>5885.858844162206</td>\n      <td>milk</td>\n      <td>False</td>\n      <td>True</td>\n      <td>2276.929422081103</td>\n      <td>True</td>\n      <td>71</td>\n      <td>maziwa</td>\n      <td>milk</td>\n      <td>0.3</td>\n      <td>3</td>\n    </tr>\n    <tr>\n      <th>813</th>\n      <td>41</td>\n      <td>797265.6417000107</td>\n      <td>1740.415700012818</td>\n      <td>True</td>\n      <td>7555.978284850239</td>\n      <td>scissors</td>\n      <td>False</td>\n      <td>True</td>\n      <td>2445.9891424251196</td>\n      <td>True</td>\n      <td>45</td>\n      <td>chanjo</td>\n      <td>scissors</td>\n      <td>0.43085937499999993</td>\n      <td>3</td>\n    </tr>\n  </tbody>\n</table>\n<p>814 rows × 15 columns</p>\n</div>"
     },
     "execution_count": 37,
     "metadata": {},
     "output_type": "execute_result"
    }
   ],
   "source": [
    "combined_df"
   ],
   "metadata": {
    "collapsed": false,
    "pycharm": {
     "name": "#%%\n"
    }
   }
  },
  {
   "cell_type": "code",
   "execution_count": null,
   "outputs": [],
   "source": [],
   "metadata": {
    "collapsed": false,
    "pycharm": {
     "name": "#%%\n"
    }
   }
  }
 ],
 "metadata": {
  "kernelspec": {
   "display_name": "Python 3",
   "language": "python",
   "name": "python3"
  },
  "language_info": {
   "codemirror_mode": {
    "name": "ipython",
    "version": 2
   },
   "file_extension": ".py",
   "mimetype": "text/x-python",
   "name": "python",
   "nbconvert_exporter": "python",
   "pygments_lexer": "ipython2",
   "version": "2.7.6"
  }
 },
 "nbformat": 4,
 "nbformat_minor": 0
}